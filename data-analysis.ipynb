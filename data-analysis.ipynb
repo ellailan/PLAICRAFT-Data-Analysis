{
 "cells": [
  {
   "cell_type": "code",
   "execution_count": null,
   "id": "4a0742ce-e573-4468-9df0-ffe3dc174441",
   "metadata": {},
   "outputs": [],
   "source": [
    "#PLAICRAFT Data Analysis - following my proposal, doing a KNN regression using every trait in the players data to see if we can correctly classify gender"
   ]
  },
  {
   "cell_type": "code",
   "execution_count": null,
   "id": "bedfe672-93a1-42a5-be9c-dedcb58799f3",
   "metadata": {},
   "outputs": [],
   "source": []
  }
 ],
 "metadata": {
  "kernelspec": {
   "display_name": "R",
   "language": "R",
   "name": "ir"
  },
  "language_info": {
   "codemirror_mode": "r",
   "file_extension": ".r",
   "mimetype": "text/x-r-source",
   "name": "R",
   "pygments_lexer": "r",
   "version": "4.3.3"
  }
 },
 "nbformat": 4,
 "nbformat_minor": 5
}
