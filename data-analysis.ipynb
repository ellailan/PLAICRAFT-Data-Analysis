{
 "cells": [
  {
   "cell_type": "markdown",
   "id": "2cf326ef-22fd-476e-8eeb-54266de9d96a",
   "metadata": {},
   "source": [
    "PLAICRAFT Data Analysis"
   ]
  }
 ],
 "metadata": {
  "kernelspec": {
   "display_name": "R",
   "language": "R",
   "name": "ir"
  },
  "language_info": {
   "codemirror_mode": "r",
   "file_extension": ".r",
   "mimetype": "text/x-r-source",
   "name": "R",
   "pygments_lexer": "r",
   "version": "4.3.3"
  }
 },
 "nbformat": 4,
 "nbformat_minor": 5
}
